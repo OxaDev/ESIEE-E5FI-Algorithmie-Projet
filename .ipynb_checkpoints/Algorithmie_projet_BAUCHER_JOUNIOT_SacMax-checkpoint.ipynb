{
 "cells": [
  {
   "cell_type": "raw",
   "metadata": {},
   "source": [
    "BAUCHER Quentin\n",
    "JOUNIOT Constantin"
   ]
  },
  {
   "cell_type": "code",
   "execution_count": 4,
   "metadata": {},
   "outputs": [],
   "source": [
    "import random\n",
    "import matplotlib.pyplot as plt"
   ]
  },
  {
   "cell_type": "code",
   "execution_count": 2,
   "metadata": {},
   "outputs": [],
   "source": [
    "## Fonction gloutonne\n",
    "def arrangement_glouton(V, E, C):\n",
    "    V_sort = V\n",
    "    E_sort = E\n",
    "    C_temp = C\n",
    "    \n",
    "    ## Sort V tab and E tab\n",
    "    for i in range(len(V_sort)):\n",
    "        if(i+1 == len(V_sort)):\n",
    "            break\n",
    "            \n",
    "        for j in range(i+1,len(V_sort)):\n",
    "            if(V_sort[j] > V_sort[i]):\n",
    "                temp = V_sort[i]\n",
    "                V_sort[i] = V_sort[j]\n",
    "                V_sort[j] = temp\n",
    "                \n",
    "                temp = E_sort[i]\n",
    "                E_sort[i] = E_sort[j]\n",
    "                E_sort[j] = temp\n",
    "    \n",
    "    ## Get glouton tab in getting the biggest values of V tab\n",
    "    glouton_tab = []\n",
    "    for i in range(len(V_sort)):\n",
    "        if(C_temp - E_sort[i] >= 0):\n",
    "            glouton_tab.append(V_sort[i])\n",
    "            C_temp -= E_sort[i]\n",
    "    \n",
    "    return glouton_tab"
   ]
  },
  {
   "cell_type": "code",
   "execution_count": 3,
   "metadata": {},
   "outputs": [],
   "source": [
    "def arrangement_optimal(V,E,C): #CalculerM() function\n",
    "    n = len(V)\n",
    "    M = [ [c for c in range(0,C+1)] for k in range(0,n+1)]\n",
    "    for c in range(C+1) : M[0][c] = 0 # base de la récurrence\n",
    "    # cas général\n",
    "    for k in range(1,n+1) :\n",
    "        for c in range(C+1) :\n",
    "            if E[k-1] <= c : M[k][c] = max(V[k-1] + M[k-1][c-E[k-1]], M[k-1][c])\n",
    "            else : # le k-ème objet est trop encombrant pour le sac de contenance c\n",
    "                M[k][c] = M[k-1][c]\n",
    "    return M\n",
    "\n",
    "def afficherSac(M,V,E,k,c, i = 0) : \n",
    "    if k==0 : \n",
    "        return\n",
    "    if M[k][c] == M[k-1][c] : # le k-ème objet n'est pas dans le sac\n",
    "        afficherSac(M,V,E,k-1,c, i) # l'affichage du sac \"k,c\" est obtenu en affichant le sac \"k-1,c\"\n",
    "    else : \n",
    "        afficherSac(M,V,E,k-1,c-E[k-1],1 ) # afficher le sac \"k-1,c-e(k-1)\"\n",
    "        if(i == 0):\n",
    "            print(str(V[k-1]), end=\"\")\n",
    "        else:\n",
    "            print(str(V[k-1]) + \", \", end=\"\")\n",
    "\n",
    "def calculValSac(M,V,E,k,c) : \n",
    "    if k==0 : \n",
    "        return 0\n",
    "    if M[k][c] == M[k-1][c] : # le k-ème objet n'est pas dans le sac\n",
    "        maxi = calculValSac(M,V,E,k-1,c) # l'affichage du sac \"k,c\" est obtenu en affichant le sac \"k-1,c\"\n",
    "        return maxi\n",
    "    else : \n",
    "        maxi = calculValSac(M,V,E,k-1,c-E[k-1]) # afficher le sac \"k-1,c-e(k-1)\"\n",
    "        return maxi + V[k-1]"
   ]
  },
  {
   "cell_type": "code",
   "execution_count": 4,
   "metadata": {},
   "outputs": [
    {
     "name": "stdout",
     "output_type": "stream",
     "text": [
      "Cas de M.Natowicz\n",
      "- - - - - - - - - - - - - - - - - - - - - - - - - - - - - - \n",
      "C : 10\n",
      "V : [6, 3, 9, 14, 12, 11, 3, 4, 9, 20]\n",
      "E : [2, 2, 6, 5, 4, 9, 6, 1, 1, 9]\n",
      "- - - - - - - - - - - - - - - - - - - - - - - - - - - - - - \n",
      "Tab glouton : [20, 9]\n",
      "Valeur max gloutonne : 29\n",
      "Tab optimal : [14, 12, 9]\n",
      "Valeur max optimale : 35\n"
     ]
    }
   ],
   "source": [
    "## Cas de M.Natowicz\n",
    "print(\"Cas de M.Natowicz\")\n",
    "V =  [6, 3, 9, 14, 12, 11, 3, 4, 9, 20]\n",
    "E =  [2, 2, 6, 5, 4, 9, 6, 1, 1, 9]\n",
    "C =  10\n",
    "print(30*\"- \")\n",
    "print(\"C : \" + str(C))\n",
    "print(\"V : \" + str(V))\n",
    "print(\"E : \" + str(E))\n",
    "print(30*\"- \")\n",
    "## Approche gloutonne\n",
    "glouton_tab = arrangement_glouton(V,E,C)\n",
    "print(\"Tab glouton : \" + str(glouton_tab))\n",
    "sum_glouton = 0\n",
    "for elem in glouton_tab:\n",
    "    sum_glouton += elem\n",
    "print(\"Valeur max gloutonne : \" + str(sum_glouton))\n",
    "\n",
    "##Approche optimale\n",
    "optimal_tab = arrangement_optimal(V,E,C)\n",
    "print(\"Tab optimal : [\",end=\"\") \n",
    "afficherSac(optimal_tab,V,E,len(V),C, i = 0)\n",
    "print(\"]\")\n",
    "valMax = calculValSac(optimal_tab,V,E,len(V),C)\n",
    "print(\"Valeur max optimale : \" + str(valMax))"
   ]
  },
  {
   "cell_type": "code",
   "execution_count": 5,
   "metadata": {},
   "outputs": [
    {
     "data": {
      "image/png": "[encoded data removed]",
      "text/plain": [
       "<Figure size 432x288 with 1 Axes>"
      ]
     },
     "metadata": {
      "needs_background": "light"
     },
     "output_type": "display_data"
    }
   ],
   "source": [
    "nb_tests = 500\n",
    "list_val_opti = []\n",
    "list_val_gloutonne = []\n",
    "list_dist_relativ = []\n",
    "for i in range(nb_tests):\n",
    "    V = []\n",
    "    E = []\n",
    "    C = random.randint(10,2000)\n",
    "    N = random.randint(1, 200)\n",
    "    for i in range(N):\n",
    "        V.append(random.randint(1, 500))\n",
    "        E.append( random.randint(1, int(C/2) ) ) \n",
    "\n",
    "    ## Approche gloutonne\n",
    "    glouton_tab = arrangement_glouton(V,E,C)\n",
    "    sum_glouton = 0\n",
    "    for elem in glouton_tab:\n",
    "        sum_glouton += elem\n",
    "\n",
    "    ##Approche optimale\n",
    "    optimal_tab = arrangement_optimal(V,E,C)\n",
    "    valMax = calculValSac(optimal_tab,V,E,len(V),C)\n",
    "    \n",
    "    list_val_gloutonne.append(sum_glouton)\n",
    "    list_val_opti.append(valMax)\n",
    "    list_dist_relativ.append((valMax - sum_glouton)/valMax)\n",
    "\n",
    "num_bins = len(list_dist_relativ)//2\n",
    "plt.hist(list_dist_relativ, num_bins, facecolor = 'blue', alpha = 1)\n",
    "plt.title(\"Distance relative entre méthode gloutonne et optimale par valeur\")\n",
    "plt.show()"
   ]
  },
  {
   "cell_type": "code",
   "execution_count": null,
   "metadata": {},
   "outputs": [],
   "source": []
  }
 ],
 "metadata": {
  "kernelspec": {
   "display_name": "Python 3",
   "language": "python",
   "name": "python3"
  },
  "language_info": {
   "codemirror_mode": {
    "name": "ipython",
    "version": 3
   },
   "file_extension": ".py",
   "mimetype": "text/x-python",
   "name": "python",
   "nbconvert_exporter": "python",
   "pygments_lexer": "ipython3",
   "version": "3.8.8"
  }
 },
 "nbformat": 4,
 "nbformat_minor": 2
}
