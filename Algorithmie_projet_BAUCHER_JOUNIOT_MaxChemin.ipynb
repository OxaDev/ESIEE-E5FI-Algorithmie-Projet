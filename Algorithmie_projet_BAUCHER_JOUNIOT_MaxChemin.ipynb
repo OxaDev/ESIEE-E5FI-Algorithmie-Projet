{
 "cells": [
  {
   "cell_type": "raw",
   "id": "05b197bc",
   "metadata": {},
   "source": [
    "BAUCHER Quentin\n",
    "JOUNIOT Constantin"
   ]
  },
  {
   "cell_type": "code",
   "execution_count": 1,
   "id": "45e0a15a",
   "metadata": {},
   "outputs": [],
   "source": [
    "import random\n",
    "import matplotlib.pyplot as plt\n",
    "import numpy as np\n",
    "import time"
   ]
  },
  {
   "cell_type": "code",
   "execution_count": 2,
   "id": "b708b5d5",
   "metadata": {},
   "outputs": [],
   "source": [
    "def approche_gloutonne(T):\n",
    "    N = len(T)\n",
    "    cout = T[0][0]\n",
    "    path = [0]\n",
    "    j = 0\n",
    "    for i in range(1,N):\n",
    "        if(T[i][j+1] > T[i][j]):\n",
    "            path.append(j+1)\n",
    "            j=j+1\n",
    "        else:\n",
    "            path.append(j)\n",
    "\n",
    "        cout += T[i][j]\n",
    "    return path,cout"
   ]
  },
  {
   "cell_type": "code",
   "execution_count": 3,
   "id": "de523074",
   "metadata": {},
   "outputs": [],
   "source": [
    "def approche_optimale(T,i=0, j=0, M=[]):\n",
    "    if i == 0:\n",
    "        # init path tab\n",
    "        M = []\n",
    "        for x in range(len(T)):\n",
    "            M.append([])\n",
    "            for y in range(len(T[x])):\n",
    "                M[x].append(0)\n",
    "\n",
    "    if i == len(T)-1:\n",
    "        M[i][j] = T[i][j]\n",
    "        return M\n",
    "    \n",
    "    M = approche_optimale(T, i+1, j,M)\n",
    "    M = approche_optimale(T, i+1, j+1,M)\n",
    "    \n",
    "    M[i][j] = T[i][j] + max(M[i+1][j],M[i+1][j+1])\n",
    "    return M  "
   ]
  },
  {
   "cell_type": "code",
   "execution_count": 4,
   "id": "57720be8",
   "metadata": {},
   "outputs": [
    {
     "name": "stdout",
     "output_type": "stream",
     "text": [
      "-- Approche optimale --\n",
      "\t- Chemin pris -\n",
      "(0)1 ---> (1)4 ---> (2)3 ---> (3)50 ---> (4)5\n",
      "\t- Coût du chemin : 63 -\n",
      "\n",
      "-- Approche gloutonne -- \n",
      "\t- Chemin pris -\n",
      "(0)1 ---> (1)4 ---> (1)20 ---> (1)16 ---> (1)19\n",
      "\t- Coût du chemin : 60 -\n"
     ]
    }
   ],
   "source": [
    "Tr = [\n",
    "    [1],\n",
    "    [3,4],\n",
    "    [5,20,3],\n",
    "    [14,16,4,50],\n",
    "    [2,19,1,1,5],\n",
    "]\n",
    "\n",
    "## Optimale\n",
    "print(\"-- Approche optimale --\")\n",
    "Mre = approche_optimale(Tr)\n",
    "\n",
    "print(\"\\t- Chemin pris -\")\n",
    "indic_i = 0\n",
    "indic_j = 0\n",
    "print(\"(0)\"+str(Tr[indic_i][indic_j]),end=\"\")\n",
    "for indic_i in range(len(Mre)-1):\n",
    "    print( \" ---> \", end=\"\" )\n",
    "    if(Mre[indic_i+1][indic_j] < Mre[indic_i+1][indic_j+1]):\n",
    "        indic_j += 1\n",
    "    print(\"(\"+str(indic_j)+\")\"+str(Tr[indic_i+1][indic_j]),end=\"\")    \n",
    "print(\"\")\n",
    "\n",
    "print(\"\\t- Coût du chemin : \" + str(Mre[0][0]) + \" -\")\n",
    "\n",
    "## Gloutonne\n",
    "print(\"\\n-- Approche gloutonne -- \")\n",
    "path_glou,cout_glou = approche_gloutonne(Tr)\n",
    "print(\"\\t- Chemin pris -\")\n",
    "print(\"(0)\"+str(Tr[0][0]),end=\"\")\n",
    "for i in range(1,len(path_glou)):\n",
    "    print(\" ---> (\"+str(path_glou[i])+\")\"+str(Tr[i][path_glou[i]]), end=\"\")\n",
    "print(\"\")\n",
    "print(\"\\t- Coût du chemin : \" + str(cout_glou) + \" -\")"
   ]
  },
  {
   "cell_type": "code",
   "execution_count": 8,
   "id": "42852ace",
   "metadata": {
    "scrolled": true
   },
   "outputs": [
    {
     "name": "stdout",
     "output_type": "stream",
     "text": [
      "- For N : 1 - time : 0.0s\n",
      "- For N : 2 - time : 0.0s\n",
      "- For N : 3 - time : 0.0s\n",
      "- For N : 4 - time : 0.0s\n",
      "- For N : 5 - time : 0.0s\n",
      "- For N : 6 - time : 0.0s\n",
      "- For N : 7 - time : 0.0s\n",
      "- For N : 8 - time : 0.0s\n",
      "- For N : 9 - time : 0.0s\n",
      "- For N : 10 - time : 0.0s\n",
      "- For N : 11 - time : 0.0s\n",
      "- For N : 12 - time : 0.0s\n",
      "- For N : 13 - time : 0.0s\n",
      "- For N : 14 - time : 0.01s\n",
      "- For N : 15 - time : 0.01s\n",
      "- For N : 16 - time : 0.02s\n",
      "- For N : 17 - time : 0.05s\n",
      "- For N : 18 - time : 0.1s\n",
      "- For N : 19 - time : 0.2s\n",
      "- For N : 20 - time : 0.4s\n",
      "- For N : 21 - time : 0.8s\n",
      "- For N : 22 - time : 1.59s\n",
      "- For N : 23 - time : 3.17s\n",
      "- For N : 24 - time : 6.34s\n",
      "- For N : 25 - time : 12.69s\n",
      "- For N : 26 - time : 25.82s\n",
      "- For N : 27 - time : 51.51s\n",
      "- For N : 28 - time : 103.22s\n",
      "- For N : 29 - time : 206.57s\n",
      "- For N : 30 - time : 418.29s\n"
     ]
    },
    {
     "data": {
      "image/png": "[encoded data removed]",
      "text/plain": [
       "<Figure size 432x288 with 1 Axes>"
      ]
     },
     "metadata": {
      "needs_background": "light"
     },
     "output_type": "display_data"
    }
   ],
   "source": [
    "# Temps d'execution\n",
    "N_list = [i for i in range(1,31)]\n",
    "time_list = []\n",
    "for N in N_list:\n",
    "    temp_Tr = []\n",
    "    for j in range(N):\n",
    "        temp_tab = []\n",
    "        for x in range(j+1):\n",
    "            elem = random.randint(1,30)\n",
    "            temp_tab.append(elem)\n",
    "\n",
    "        temp_Tr.append(temp_tab)\n",
    "    \n",
    "    start = time.time()\n",
    "    temp_Mre = approche_optimale(temp_Tr)\n",
    "    end = time.time()\n",
    "    time_list.append(float(end-start))\n",
    "    print(\"- For N : \" + str(N) + \" - time : \" + str(round(end-start,2)) + \"s\")\n",
    "    \n",
    "plt.ion()\n",
    "plt.plot(N_list, time_list)\n",
    "plt.title(\"Temps de calcul en fonction du nombre d'étages à la pyramide\")\n",
    "plt.xlabel(\"Nombre d'étages à la pyramide\")\n",
    "plt.ylabel(\"Temps (en s)\")\n",
    "plt.ioff()\n",
    "plt.savefig(\"evolution_temps_chemin_optimale.png\")"
   ]
  },
  {
   "cell_type": "code",
   "execution_count": 6,
   "id": "b5fa7772",
   "metadata": {
    "scrolled": true
   },
   "outputs": [
    {
     "data": {
      "image/png": "[encoded data removed]",
      "text/plain": [
       "<Figure size 432x288 with 1 Axes>"
      ]
     },
     "metadata": {
      "needs_background": "light"
     },
     "output_type": "display_data"
    }
   ],
   "source": [
    "nb_tests = 500\n",
    "optimal_list = []\n",
    "glouton_list = []\n",
    "dist_list = []\n",
    "\n",
    "for i in range(nb_tests):\n",
    "    N = random.randint(5,20)\n",
    "    temp_Tr = []\n",
    "    for j in range(N):\n",
    "        temp_tab = []\n",
    "        for x in range(j+1):\n",
    "            elem = random.randint(1,30)\n",
    "            temp_tab.append(elem)\n",
    "\n",
    "        temp_Tr.append(temp_tab)\n",
    "\n",
    "    temp_Mre = approche_optimale(temp_Tr)\n",
    "    temp_path_glou,temp_cout_glou = approche_gloutonne(temp_Tr)\n",
    "\n",
    "    optimal_list.append(temp_Mre[0][0])\n",
    "    glouton_list.append(temp_cout_glou)\n",
    "    dist_list.append((temp_Mre[0][0] - temp_cout_glou) / temp_Mre[0][0])\n",
    "\n",
    "num_bins = len(dist_list)//2\n",
    "plt.hist(dist_list, num_bins, facecolor = 'blue', alpha = 1 )\n",
    "plt.title(\"Distance relative entre méthode gloutonne et optimale par valeur\")\n",
    "plt.show()"
   ]
  },
  {
   "cell_type": "code",
   "execution_count": null,
   "id": "c08e8b06",
   "metadata": {},
   "outputs": [],
   "source": []
  }
 ],
 "metadata": {
  "kernelspec": {
   "display_name": "Python 3",
   "language": "python",
   "name": "python3"
  },
  "language_info": {
   "codemirror_mode": {
    "name": "ipython",
    "version": 3
   },
   "file_extension": ".py",
   "mimetype": "text/x-python",
   "name": "python",
   "nbconvert_exporter": "python",
   "pygments_lexer": "ipython3",
   "version": "3.8.8"
  }
 },
 "nbformat": 4,
 "nbformat_minor": 5
}
