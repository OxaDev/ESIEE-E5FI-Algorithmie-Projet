{
 "cells": [
  {
   "cell_type": "raw",
   "id": "05b197bc",
   "metadata": {},
   "source": [
    "BAUCHER Quentin\n",
    "JOUNIOT Constantin"
   ]
  },
  {
   "cell_type": "code",
   "execution_count": 1,
   "id": "45e0a15a",
   "metadata": {},
   "outputs": [],
   "source": [
    "import random\n",
    "import matplotlib.pyplot as plt\n",
    "import numpy as np"
   ]
  },
  {
   "cell_type": "code",
   "execution_count": 2,
   "id": "b708b5d5",
   "metadata": {},
   "outputs": [],
   "source": [
    "def approche_gloutonne(T):\n",
    "    N = len(T)\n",
    "    cout = T[0][0]\n",
    "    path = [0]\n",
    "    j = 0\n",
    "    for i in range(1,N):\n",
    "        if(T[i][j+1] > T[i][j]):\n",
    "            path.append(j+1)\n",
    "            j=j+1\n",
    "        else:\n",
    "            path.append(j)\n",
    "\n",
    "        cout += T[i][j]\n",
    "    return path,cout"
   ]
  },
  {
   "cell_type": "code",
   "execution_count": 3,
   "id": "de523074",
   "metadata": {},
   "outputs": [],
   "source": [
    "def approche_optimale(T,i=0, j=0, M=[]):\n",
    "    if i == 0:\n",
    "        # init path tab\n",
    "        M = []\n",
    "        for x in range(len(T)):\n",
    "            M.append([])\n",
    "            for y in range(len(T[x])):\n",
    "                M[x].append(0)\n",
    "\n",
    "    if i == len(T)-1:\n",
    "        M[i][j] = T[i][j]\n",
    "        return M\n",
    "    \n",
    "    M = approche_optimale(T, i+1, j,M)\n",
    "    M = approche_optimale(T, i+1, j+1,M)\n",
    "    \n",
    "    M[i][j] = T[i][j] + max(M[i+1][j],M[i+1][j+1])\n",
    "    return M  "
   ]
  },
  {
   "cell_type": "code",
   "execution_count": 7,
   "id": "57720be8",
   "metadata": {},
   "outputs": [
    {
     "name": "stdout",
     "output_type": "stream",
     "text": [
      "-- Approche optimale --\n",
      "\t- Chemin pris -\n",
      "(0)1 ---> (1)4 ---> (2)3 ---> (3)50 ---> (4)5\n",
      "\t- Coût du chemin : 63 -\n",
      "\n",
      "-- Approche gloutonne -- \n",
      "\t- Chemin pris -\n",
      "(0)1 ---> (1)4 ---> (1)20 ---> (1)16 ---> (1)19\n",
      "\t- Coût du chemin : 60 -\n"
     ]
    }
   ],
   "source": [
    "Tr = [\n",
    "    [1],\n",
    "    [3,4],\n",
    "    [5,20,3],\n",
    "    [14,16,4,50],\n",
    "    [2,19,1,1,5],\n",
    "]\n",
    "\n",
    "## Optimale\n",
    "print(\"-- Approche optimale --\")\n",
    "Mre = approche_optimale(Tr)\n",
    "\n",
    "print(\"\\t- Chemin pris -\")\n",
    "indic_i = 0\n",
    "indic_j = 0\n",
    "print(\"(0)\"+str(Tr[indic_i][indic_j]),end=\"\")\n",
    "for indic_i in range(len(Mre)-1):\n",
    "    print( \" ---> \", end=\"\" )\n",
    "    if(Mre[indic_i+1][indic_j] < Mre[indic_i+1][indic_j+1]):\n",
    "        indic_j += 1\n",
    "    print(\"(\"+str(indic_j)+\")\"+str(Tr[indic_i+1][indic_j]),end=\"\")    \n",
    "print(\"\")\n",
    "\n",
    "print(\"\\t- Coût du chemin : \" + str(Mre[0][0]) + \" -\")\n",
    "\n",
    "## Gloutonne\n",
    "print(\"\\n-- Approche gloutonne -- \")\n",
    "path_glou,cout_glou = approche_gloutonne(Tr)\n",
    "print(\"\\t- Chemin pris -\")\n",
    "print(\"(0)\"+str(Tr[0][0]),end=\"\")\n",
    "for i in range(1,len(path_glou)):\n",
    "    print(\" ---> (\"+str(path_glou[i])+\")\"+str(Tr[i][path_glou[i]]), end=\"\")\n",
    "print(\"\")\n",
    "print(\"\\t- Coût du chemin : \" + str(cout_glou) + \" -\")"
   ]
  },
  {
   "cell_type": "code",
   "execution_count": null,
   "id": "b5fa7772",
   "metadata": {},
   "outputs": [],
   "source": []
  }
 ],
 "metadata": {
  "kernelspec": {
   "display_name": "Python 3",
   "language": "python",
   "name": "python3"
  },
  "language_info": {
   "codemirror_mode": {
    "name": "ipython",
    "version": 3
   },
   "file_extension": ".py",
   "mimetype": "text/x-python",
   "name": "python",
   "nbconvert_exporter": "python",
   "pygments_lexer": "ipython3",
   "version": "3.8.8"
  }
 },
 "nbformat": 4,
 "nbformat_minor": 5
}
