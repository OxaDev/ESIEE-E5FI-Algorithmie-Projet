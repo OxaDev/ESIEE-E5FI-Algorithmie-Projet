{
 "cells": [
  {
   "cell_type": "raw",
   "metadata": {},
   "source": [
    "BAUCHER Quentin\n",
    "JOUNIOT Constantin"
   ]
  },
  {
   "cell_type": "code",
   "execution_count": 1,
   "metadata": {},
   "outputs": [],
   "source": [
    "import random\n",
    "import matplotlib.pyplot as plt\n",
    "import numpy as np"
   ]
  },
  {
   "cell_type": "code",
   "execution_count": 2,
   "metadata": {},
   "outputs": [],
   "source": [
    "def approche_gloutonne(G):\n",
    "    S = len(G[0])-1\n",
    "    return_tab = []\n",
    "    for i in range(len(G)):\n",
    "        return_tab.append([])\n",
    "        return_tab[i].append(0)\n",
    "        for j in range(S):\n",
    "            return_tab[i].append(-1)\n",
    "\n",
    "    temp_s = S\n",
    "    while(temp_s > 0 ):\n",
    "        indic_to_put = getMaxGain(G,return_tab)\n",
    "        for i in range(1,S+1):\n",
    "            if(return_tab[indic_to_put][i] == -1):\n",
    "                return_tab[indic_to_put][i] = G[indic_to_put][i]\n",
    "                break\n",
    "        temp_s -= 1\n",
    "    return return_tab\n",
    "\n",
    "\n",
    "def getMaxGain(G, already_done):\n",
    "    indic = 0\n",
    "    max = -1\n",
    "    indic_max = 0\n",
    "    for elem in already_done:\n",
    "        indic_not_done = 0\n",
    "        for i in range(len(elem)):\n",
    "            if(elem[i] == -1):\n",
    "                indic_not_done = i\n",
    "                break\n",
    "        \n",
    "        if( indic_not_done == 0):\n",
    "            continue\n",
    "            \n",
    "        diffGain = G[indic][indic_not_done] - G[indic][indic_not_done-1]\n",
    "        if(diffGain > max):\n",
    "            max = diffGain\n",
    "            indic_max = indic\n",
    "        indic += 1\n",
    "\n",
    "    return indic_max"
   ]
  },
  {
   "cell_type": "code",
   "execution_count": 3,
   "metadata": {},
   "outputs": [],
   "source": [
    "def approche_optimale(G) : # G[0:n+1]][0:S+1] est de terme général G[i][s] = g(i,s) = gain obtenu\n",
    "# par la livraison d'un stock s à l'entrepôt de numéro i.\n",
    "    n = len(G) ; S = len(G[0]) - 1; \n",
    "    M = [[-1 for s in range(S+1)] for k in range(n+1)] # -1, ou une valeur quelconque.\n",
    "    A = [[0 for s in range(S+1)] for k in range(n+1)] # 0 ou une valeur quelconque.\n",
    "    # base de la récurrence : m\n",
    "    for s in range(S+1) : M[0][s] = 0     # m(0,s) = 0 qqsoit s, 0 ≤ s < S+1\n",
    "    # cas général : par taille k croissante, calculer et mémoriser toutes les valeurs m(k,s)\n",
    "    # qqsoit k, qqsoit s, 1 ≤ k < n+1, 0 ≤ s < S+1\n",
    "    # m(k,s) =  max_{0 ≤  s' < s+1} ( g(k-1,s') + m(k-1,s-s') )\n",
    "    for k in range(1,n+1) : # par tailles k croissantes\n",
    "        for s in range(0,S+1) : # pour tout stock s \n",
    "            # calculer m(k,s) = max_{0 ≤  s' < s+1} ( g(k-1,s') + m(k-1,s-s') )\n",
    "            for sprime in range(0,s+1) : \n",
    "                mks = G[k-1][sprime] + M[k-1][s-sprime]\n",
    "                if mks > M[k][s] :\n",
    "                    M[k][s] = mks\n",
    "                    A[k][s] = sprime\n",
    "    return M,A"
   ]
  },
  {
   "cell_type": "code",
   "execution_count": 4,
   "metadata": {},
   "outputs": [
    {
     "data": {
      "image/png": "[encoded data removed]",
      "text/plain": [
       "<Figure size 432x288 with 1 Axes>"
      ]
     },
     "metadata": {
      "needs_background": "light"
     },
     "output_type": "display_data"
    }
   ],
   "source": [
    "## Main ##\n",
    "\n",
    "optimal_list = []\n",
    "glouton_list = []\n",
    "dist_list = []\n",
    "\n",
    "for x in range(500):\n",
    "    S = random.randint(3,10)\n",
    "    N = random.randint(3,15)\n",
    "    G = []\n",
    "    for i in range(N):\n",
    "        G.append([0])\n",
    "        for j in range(1,S):\n",
    "            G[i].append( G[i][j-1] + random.randint(0,5) )\n",
    "\n",
    "    ### Approche gloutonne ###\n",
    "    M_glouton = approche_gloutonne(G)\n",
    "\n",
    "    # Calcul gain maximal glouton #\n",
    "    max_gain = 0\n",
    "    for elem in M_glouton:\n",
    "        for i in range(1,len(elem)):\n",
    "            if(elem[i] == -1):\n",
    "                max_gain += elem[i-1]\n",
    "                break\n",
    "            if(i+1 == len(elem)):\n",
    "                max_gain += elem[i]\n",
    "                break\n",
    "\n",
    "    ### Approche optimale ###\n",
    "    MA = approche_optimale(G)\n",
    "    A = MA[1]        # A[0:n+1][0:S+1] de terme général a(k,s) = argmax m(k,s)\n",
    "    n = len(A) - 1 ; S = len(G[0]) - 1\n",
    "    M = MA[0]\n",
    "\n",
    "\n",
    "    optimal_list.append(M[n][S])\n",
    "    glouton_list.append(max_gain)\n",
    "    dist_list.append((M[n][S] - max_gain) / M[n][S])\n",
    "\n",
    "num_bins = len(dist_list)//2\n",
    "plt.hist(dist_list, num_bins, facecolor = 'blue', alpha = 1 )\n",
    "plt.title(\"Distance relative entre méthode gloutonne et optimale par valeur\")\n",
    "plt.show()"
   ]
  },
  {
   "cell_type": "code",
   "execution_count": null,
   "metadata": {},
   "outputs": [],
   "source": []
  }
 ],
 "metadata": {
  "kernelspec": {
   "display_name": "Python 3",
   "language": "python",
   "name": "python3"
  },
  "language_info": {
   "codemirror_mode": {
    "name": "ipython",
    "version": 3
   },
   "file_extension": ".py",
   "mimetype": "text/x-python",
   "name": "python",
   "nbconvert_exporter": "python",
   "pygments_lexer": "ipython3",
   "version": "3.8.8"
  }
 },
 "nbformat": 4,
 "nbformat_minor": 2
}
