{
 "cells": [
  {
   "cell_type": "raw",
   "id": "4a7f8d96",
   "metadata": {},
   "source": [
    "BAUCHER Quentin\n",
    "JOUNIOT Constantin"
   ]
  },
  {
   "cell_type": "code",
   "execution_count": 1,
   "id": "2d427af3",
   "metadata": {},
   "outputs": [],
   "source": [
    "import random\n",
    "import matplotlib.pyplot as plt\n",
    "import numpy as np"
   ]
  },
  {
   "cell_type": "code",
   "execution_count": 8,
   "id": "0a7c3094",
   "metadata": {},
   "outputs": [],
   "source": [
    "def approche_gloutonne(G):\n",
    "    indic_arc = 0\n",
    "    cout_chemin = 0\n",
    "    arc_list = [0]\n",
    "    while(indic_arc != len(G)-1):\n",
    "        min_arc = 999999\n",
    "        sommet = G[indic_arc]\n",
    "        for arc in sommet:\n",
    "            if(arc[1] < min_arc):\n",
    "                min_arc = arc[1]\n",
    "                indic_arc = arc[0]\n",
    "                \n",
    "        cout_chemin += min_arc\n",
    "        arc_list.append(indic_arc)\n",
    "        \n",
    "    return cout_chemin, arc_list"
   ]
  },
  {
   "cell_type": "code",
   "execution_count": 9,
   "id": "33d7a853",
   "metadata": {},
   "outputs": [],
   "source": [
    "def calculerGrapheSymetrique(G) : # retourne G' en Theta(m+n).\n",
    "# L'arc (x,y) du graphe G est l'arc (y,x) du graphe symétrique.\n",
    "    n = len(G)\n",
    "    # parcourir G : pour tout arc (x,y) de coût cxy, \n",
    "    # ajouter à Gprime l'arc (y,x) de même coût cyx \n",
    "    Gprime = [[] for y in range(n)] # un tableau de n listes d'arcs vides.\n",
    "    for x in range(n) : \n",
    "        for (y,cxy) in G[x] :\n",
    "            Gprime[y].append((x,cxy))\n",
    "    # en Theta(n+m)\t\n",
    "    return Gprime\n",
    "\n",
    "def approche_optimal(G) :\n",
    "    Gprime = calculerGrapheSymetrique(G)\n",
    "    n = len(Gprime) # nombre de sommets\n",
    "    M = [float(\"inf\") for y in range(n)]\n",
    "    A = [0 for y in range(n)]\n",
    "    # base de la récurrence :\n",
    "    M[0] = 0 ; A[0] = -1;\n",
    "    for y in range(1,n) :\n",
    "        Py = Gprime[y] # liste des arcs vers y (liste des arcs entrant sur y)\n",
    "        for (x,cxy) in Py :\n",
    "            mx = M[x] + cxy # coût min 0 -----> x -> y\n",
    "            if mx < M[y] : \n",
    "                M[y] = mx\n",
    "                A[y] = x\n",
    "    return M,A\n",
    "    # Theta(n + m) où n est le nombre de sommets et m le nombre d'arcs.\n",
    "    # Temps linéaire en fonction de la taille m+n du graphe.\n",
    "\n",
    "def accm(y,A) : # A[n] est de tg A[y] = argmin m(y) = le dernier sommet avant y.\n",
    "    if y == 0 : \n",
    "        print(0, end=\"\") \n",
    "        return\n",
    "    # 1 ≤ y < n\n",
    "    accm(A[y],A) # le ccm 0 ------> x a été affiché\n",
    "    print (\"-->\" + str(y), end=\"\") # l ccm 0 --------x->y a été affiché."
   ]
  },
  {
   "cell_type": "code",
   "execution_count": 13,
   "id": "97941cd3",
   "metadata": {},
   "outputs": [
    {
     "data": {
      "image/png": "[encoded data removed]",
      "text/plain": [
       "<Figure size 432x288 with 1 Axes>"
      ]
     },
     "metadata": {
      "needs_background": "light"
     },
     "output_type": "display_data"
    }
   ],
   "source": [
    "## Main ##\n",
    "nb_tests = 500\n",
    "list_val_opti = []\n",
    "list_val_gloutonne = []\n",
    "list_dist_relativ = []\n",
    "\n",
    "for x in range(nb_tests):\n",
    "    n = random.randint(5,20)\n",
    "    G = []\n",
    "    for i in range(n+1):\n",
    "        G.append([])\n",
    "\n",
    "    for i in range(n):\n",
    "        nb_arcs = random.randint(1,5)\n",
    "        arc_in = []\n",
    "        for j in range(nb_arcs):\n",
    "            cout = random.randint(1,10)\n",
    "            arc = random.randint(i+1,n)\n",
    "            while(arc in arc_in):\n",
    "                arc = random.randint(i,n)\n",
    "            G[i].append((arc,cout))\n",
    "\n",
    "    MA = approche_optimal(G)\n",
    "    M,A = MA\n",
    "    n = len(G)\n",
    "    cout_optimal = M[n-1]\n",
    "    cout_glouton, arc_list = approche_gloutonne(G)\n",
    "    list_val_gloutonne.append(cout_glouton)\n",
    "    list_val_opti.append(cout_optimal)\n",
    "    list_dist_relativ.append(abs((cout_optimal - cout_glouton)/cout_optimal) )\n",
    "\n",
    "num_bins = len(list_dist_relativ)//2\n",
    "plt.hist(list_dist_relativ, num_bins, facecolor = 'blue', alpha = 1)\n",
    "plt.title(\"Distance relative entre méthode gloutonne et optimale par valeur\")\n",
    "plt.show()\n",
    "\n",
    "##########"
   ]
  },
  {
   "cell_type": "code",
   "execution_count": null,
   "id": "2b9e3981",
   "metadata": {},
   "outputs": [],
   "source": []
  }
 ],
 "metadata": {
  "kernelspec": {
   "display_name": "Python 3",
   "language": "python",
   "name": "python3"
  },
  "language_info": {
   "codemirror_mode": {
    "name": "ipython",
    "version": 3
   },
   "file_extension": ".py",
   "mimetype": "text/x-python",
   "name": "python",
   "nbconvert_exporter": "python",
   "pygments_lexer": "ipython3",
   "version": "3.8.8"
  }
 },
 "nbformat": 4,
 "nbformat_minor": 5
}
